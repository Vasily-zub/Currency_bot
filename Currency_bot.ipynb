{
 "cells": [
  {
   "cell_type": "code",
   "execution_count": 1,
   "metadata": {},
   "outputs": [],
   "source": [
    "import pandas as pd\n",
    "import re\n",
    "import requests\n",
    "from bs4 import BeautifulSoup\n",
    "\n",
    "def stat(tag=0):\n",
    "    url = 'https://www.worldometers.info/coronavirus/'\n",
    "    website = requests.get(url).text\n",
    "    soup = BeautifulSoup(website, 'lxml')\n",
    "    table = soup.find_all('table')[tag]\n",
    "    rows = table.find_all('tr')\n",
    "    d = dict()\n",
    "    for i in range(9):\n",
    "        col = []\n",
    "        key = rows[0].find_all('th')[i + 1].get_text().strip()\n",
    "        for row in rows[1:225]:\n",
    "            r = row.find_all('td')\n",
    "            col.append(r[i + 1].get_text().strip())\n",
    "        d[key] = col\n",
    "    df = pd.DataFrame(d)\n",
    "    df = df.rename(columns={'Country,Other': 'Country', 'Serious,Critical': 'SeriousCritical'})\n",
    "    return df"
   ]
  },
  {
   "cell_type": "code",
   "execution_count": 13,
   "metadata": {},
   "outputs": [],
   "source": [
    "url = 'https://www.cbr.ru/currency_base/daily/'\n",
    "\n",
    "website = requests.get(url).text\n",
    "\n",
    "soup = BeautifulSoup(website, 'lxml')"
   ]
  },
  {
   "cell_type": "code",
   "execution_count": 52,
   "metadata": {},
   "outputs": [],
   "source": [
    "table = soup.find_all('table')[0]\n",
    "rows = table.find_all('tr')\n",
    "d = dict()\n",
    "for i in range(0,5):\n",
    "    col = []\n",
    "    key = rows[0].find_all('th')[i].get_text().strip()\n",
    "    for row in rows[1:len(rows)]:\n",
    "        tds_per_row = row.find_all('td')\n",
    "        col.append(tds_per_row[i].get_text().strip())\n",
    "    d[key] = col\n",
    "\n",
    "key_name = 'Наименование валюты'"
   ]
  },
  {
   "cell_type": "code",
   "execution_count": null,
   "metadata": {},
   "outputs": [],
   "source": []
  },
  {
   "cell_type": "code",
   "execution_count": 60,
   "metadata": {},
   "outputs": [],
   "source": [
    "d[key_name] = ['Австралийский доллар',\n",
    " 'Азербайджанский манат',\n",
    " 'Армянский драм',\n",
    " 'Белорусский рубль',\n",
    " 'Болгарский лев',\n",
    " 'Бразильский реал',\n",
    " 'Венгерский форинт',\n",
    " 'Корейский вон',\n",
    " 'Гонконгский доллар',\n",
    " 'Датская крона',\n",
    " 'Доллар США',\n",
    " 'Евро',\n",
    " 'Индийская рупия',\n",
    " 'Казахстанский тенге',\n",
    " 'Канадский доллар',\n",
    " 'Киргизский сом',\n",
    " 'Китайский юань',\n",
    " 'Молдавский лей',\n",
    " 'Новый туркменский манат',\n",
    " 'Норвежская крона',\n",
    " 'Польский злотый',\n",
    " 'Румынский лей',\n",
    " 'СДР (специальные права заимствования)',\n",
    " 'Сингапурский доллар',\n",
    " 'Таджикский сомони',\n",
    " 'Турецкая лира',\n",
    " 'Узбекский сум',\n",
    " 'Украинская гривна',\n",
    " 'Фунт стерлингов',\n",
    " 'Чешская крона',\n",
    " 'Шведская крона',\n",
    " 'Швейцарский франк',\n",
    " 'Южноафриканский рэнд',\n",
    " 'Японская иена']"
   ]
  },
  {
   "cell_type": "code",
   "execution_count": 61,
   "metadata": {},
   "outputs": [],
   "source": [
    "df = pd.DataFrame(d)"
   ]
  },
  {
   "cell_type": "code",
   "execution_count": 65,
   "metadata": {},
   "outputs": [],
   "source": [
    "df = df.rename(columns = {'Цифр. код': 'Цифровой код', 'Букв. код': 'Буквенный код'})"
   ]
  },
  {
   "cell_type": "code",
   "execution_count": 68,
   "metadata": {},
   "outputs": [
    {
     "data": {
      "text/html": [
       "<div>\n",
       "<style scoped>\n",
       "    .dataframe tbody tr th:only-of-type {\n",
       "        vertical-align: middle;\n",
       "    }\n",
       "\n",
       "    .dataframe tbody tr th {\n",
       "        vertical-align: top;\n",
       "    }\n",
       "\n",
       "    .dataframe thead th {\n",
       "        text-align: right;\n",
       "    }\n",
       "</style>\n",
       "<table border=\"1\" class=\"dataframe\">\n",
       "  <thead>\n",
       "    <tr style=\"text-align: right;\">\n",
       "      <th></th>\n",
       "      <th>Цифровой код</th>\n",
       "      <th>Буквенный код</th>\n",
       "      <th>Единиц</th>\n",
       "      <th>Валюта</th>\n",
       "      <th>Курс</th>\n",
       "      <th>Наименование валюты</th>\n",
       "    </tr>\n",
       "  </thead>\n",
       "  <tbody>\n",
       "    <tr>\n",
       "      <th>0</th>\n",
       "      <td>036</td>\n",
       "      <td>AUD</td>\n",
       "      <td>1</td>\n",
       "      <td>Австралийский доллар</td>\n",
       "      <td>56,7684</td>\n",
       "      <td>Австралийский доллар</td>\n",
       "    </tr>\n",
       "    <tr>\n",
       "      <th>1</th>\n",
       "      <td>944</td>\n",
       "      <td>AZN</td>\n",
       "      <td>1</td>\n",
       "      <td>Азербайджанский манат</td>\n",
       "      <td>47,0869</td>\n",
       "      <td>Азербайджанский манат</td>\n",
       "    </tr>\n",
       "    <tr>\n",
       "      <th>2</th>\n",
       "      <td>051</td>\n",
       "      <td>AMD</td>\n",
       "      <td>100</td>\n",
       "      <td>Армянских драмов</td>\n",
       "      <td>16,2257</td>\n",
       "      <td>Армянский драм</td>\n",
       "    </tr>\n",
       "    <tr>\n",
       "      <th>3</th>\n",
       "      <td>933</td>\n",
       "      <td>BYN</td>\n",
       "      <td>1</td>\n",
       "      <td>Белорусский рубль</td>\n",
       "      <td>30,1855</td>\n",
       "      <td>Белорусский рубль</td>\n",
       "    </tr>\n",
       "    <tr>\n",
       "      <th>4</th>\n",
       "      <td>975</td>\n",
       "      <td>BGN</td>\n",
       "      <td>1</td>\n",
       "      <td>Болгарский лев</td>\n",
       "      <td>47,8101</td>\n",
       "      <td>Болгарский лев</td>\n",
       "    </tr>\n",
       "  </tbody>\n",
       "</table>\n",
       "</div>"
      ],
      "text/plain": [
       "  Цифровой код Буквенный код Единиц                 Валюта     Курс  \\\n",
       "0          036           AUD      1   Австралийский доллар  56,7684   \n",
       "1          944           AZN      1  Азербайджанский манат  47,0869   \n",
       "2          051           AMD    100       Армянских драмов  16,2257   \n",
       "3          933           BYN      1      Белорусский рубль  30,1855   \n",
       "4          975           BGN      1         Болгарский лев  47,8101   \n",
       "\n",
       "     Наименование валюты  \n",
       "0   Австралийский доллар  \n",
       "1  Азербайджанский манат  \n",
       "2         Армянский драм  \n",
       "3      Белорусский рубль  \n",
       "4         Болгарский лев  "
      ]
     },
     "execution_count": 68,
     "metadata": {},
     "output_type": "execute_result"
    }
   ],
   "source": [
    "df.head()"
   ]
  },
  {
   "cell_type": "code",
   "execution_count": null,
   "metadata": {},
   "outputs": [],
   "source": []
  }
 ],
 "metadata": {
  "kernelspec": {
   "display_name": "Python 3",
   "language": "python",
   "name": "python3"
  },
  "language_info": {
   "codemirror_mode": {
    "name": "ipython",
    "version": 3
   },
   "file_extension": ".py",
   "mimetype": "text/x-python",
   "name": "python",
   "nbconvert_exporter": "python",
   "pygments_lexer": "ipython3",
   "version": "3.8.3"
  }
 },
 "nbformat": 4,
 "nbformat_minor": 4
}
